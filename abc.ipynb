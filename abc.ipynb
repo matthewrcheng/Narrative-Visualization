{
 "cells": [
  {
   "cell_type": "code",
   "execution_count": 1,
   "metadata": {},
   "outputs": [],
   "source": [
    "import pandas as pd"
   ]
  },
  {
   "cell_type": "code",
   "execution_count": 2,
   "metadata": {},
   "outputs": [],
   "source": [
    "# df = pd.read_csv(\"Electric_Vehicle_Population_Data.csv\")"
   ]
  },
  {
   "cell_type": "code",
   "execution_count": 3,
   "metadata": {},
   "outputs": [],
   "source": [
    "# df.sort_values(by=\"Model Year\", inplace=True, ignore_index=True)"
   ]
  },
  {
   "cell_type": "code",
   "execution_count": 4,
   "metadata": {},
   "outputs": [],
   "source": [
    "# df.to_csv('Sorted_Electric_Vehicle_Population_Data.csv', index=False)"
   ]
  },
  {
   "cell_type": "code",
   "execution_count": 5,
   "metadata": {},
   "outputs": [],
   "source": [
    "# year_counts = df['Model Year'].value_counts()\n",
    "\n",
    "# year_counts"
   ]
  },
  {
   "cell_type": "code",
   "execution_count": 6,
   "metadata": {},
   "outputs": [],
   "source": [
    "    # year_proportions = year_counts / len(df)\n",
    "    # samples_per_year = (year_proportions * 10000).apply(lambda x: max(int(x), 1))"
   ]
  },
  {
   "cell_type": "code",
   "execution_count": 7,
   "metadata": {},
   "outputs": [],
   "source": [
    "# sampled_dfs = []\n",
    "\n",
    "# # Sample from each year group\n",
    "# for year, n_samples in samples_per_year.items():\n",
    "#     year_group = df[df['Model Year'] == year]\n",
    "#     if len(year_group) < 50:\n",
    "#         # Include all rows if the year has fewer than 50 rows\n",
    "#         sampled_dfs.append(year_group)\n",
    "#     else:\n",
    "#         if n_samples < 100:\n",
    "#             n_samples += 50\n",
    "#         if n_samples < 500:\n",
    "#             n_samples += 50\n",
    "#         # Otherwise, sample according to the calculated proportion\n",
    "#         sampled_dfs.append(year_group.sample(n=n_samples, random_state=42))\n",
    "\n",
    "# # Concatenate all the sampled dataframes\n",
    "# sampled_df = pd.concat(sampled_dfs)\n",
    "# sampled_df"
   ]
  },
  {
   "cell_type": "code",
   "execution_count": 8,
   "metadata": {},
   "outputs": [],
   "source": [
    "sampled_df = pd.read_csv(\"Sampled_Small_EV_Data.csv\")"
   ]
  },
  {
   "cell_type": "code",
   "execution_count": 9,
   "metadata": {},
   "outputs": [
    {
     "data": {
      "text/plain": [
       "Model Year\n",
       "2023    3071\n",
       "2022    1449\n",
       "2024    1043\n",
       "2021     994\n",
       "2018     744\n",
       "2020     622\n",
       "2019     561\n",
       "2017     496\n",
       "2016     335\n",
       "2015     296\n",
       "2013     276\n",
       "2014     232\n",
       "2012     182\n",
       "2011     137\n",
       "2025      48\n",
       "2010      24\n",
       "2008      21\n",
       "2000       7\n",
       "1999       5\n",
       "2002       2\n",
       "2003       1\n",
       "1997       1\n",
       "Name: count, dtype: int64"
      ]
     },
     "execution_count": 9,
     "metadata": {},
     "output_type": "execute_result"
    }
   ],
   "source": [
    "sampled_df['Model Year'].value_counts()"
   ]
  },
  {
   "cell_type": "code",
   "execution_count": 10,
   "metadata": {},
   "outputs": [],
   "source": [
    "# sampled_df.sort_values(by=\"Model Year\", inplace=True, ignore_index=True)\n",
    "# sampled_df.to_csv('Sampled_Small_EV_Data.csv', index=False)"
   ]
  },
  {
   "cell_type": "code",
   "execution_count": 11,
   "metadata": {},
   "outputs": [
    {
     "data": {
      "text/plain": [
       "Make\n",
       "TESLA                   4499\n",
       "NISSAN                   935\n",
       "CHEVROLET                851\n",
       "FORD                     558\n",
       "BMW                      444\n",
       "KIA                      423\n",
       "TOYOTA                   409\n",
       "HYUNDAI                  280\n",
       "VOLKSWAGEN               277\n",
       "VOLVO                    253\n",
       "JEEP                     250\n",
       "RIVIAN                   245\n",
       "AUDI                     211\n",
       "CHRYSLER                 190\n",
       "MERCEDES-BENZ             93\n",
       "PORSCHE                   74\n",
       "SUBARU                    59\n",
       "LEXUS                     52\n",
       "MITSUBISHI                51\n",
       "POLESTAR                  50\n",
       "MINI                      48\n",
       "FIAT                      46\n",
       "MAZDA                     45\n",
       "HONDA                     43\n",
       "CADILLAC                  40\n",
       "DODGE                     34\n",
       "LINCOLN                   16\n",
       "SMART                     14\n",
       "JAGUAR                    12\n",
       "LUCID                     12\n",
       "GENESIS                   11\n",
       "FISKER                    10\n",
       "WHEEGO ELECTRIC CARS       3\n",
       "ALFA ROMEO                 3\n",
       "GMC                        2\n",
       "AZURE DYNAMICS             1\n",
       "BENTLEY                    1\n",
       "LAND ROVER                 1\n",
       "ACURA                      1\n",
       "Name: count, dtype: int64"
      ]
     },
     "execution_count": 11,
     "metadata": {},
     "output_type": "execute_result"
    }
   ],
   "source": [
    "sampled_df['Make'].value_counts()"
   ]
  },
  {
   "cell_type": "code",
   "execution_count": 13,
   "metadata": {},
   "outputs": [],
   "source": [
    "sampled_df = sampled_df[sampled_df['Electric Range'] > 0]"
   ]
  },
  {
   "cell_type": "code",
   "execution_count": 14,
   "metadata": {},
   "outputs": [
    {
     "data": {
      "text/plain": [
       "117.11656920077972"
      ]
     },
     "execution_count": 14,
     "metadata": {},
     "output_type": "execute_result"
    }
   ],
   "source": [
    "sampled_df['Electric Range'].mean()"
   ]
  },
  {
   "cell_type": "code",
   "execution_count": 16,
   "metadata": {},
   "outputs": [
    {
     "data": {
      "text/plain": [
       "Model Year  Electric Vehicle Type                 \n",
       "1997        Battery Electric Vehicle (BEV)             39.000000\n",
       "1999        Battery Electric Vehicle (BEV)             74.000000\n",
       "2000        Battery Electric Vehicle (BEV)             58.000000\n",
       "2002        Battery Electric Vehicle (BEV)             95.000000\n",
       "2003        Battery Electric Vehicle (BEV)             95.000000\n",
       "2008        Battery Electric Vehicle (BEV)            220.000000\n",
       "2010        Battery Electric Vehicle (BEV)            245.000000\n",
       "            Plug-in Hybrid Electric Vehicle (PHEV)    100.000000\n",
       "2011        Battery Electric Vehicle (BEV)             75.725000\n",
       "            Plug-in Hybrid Electric Vehicle (PHEV)     35.000000\n",
       "2012        Battery Electric Vehicle (BEV)            111.795181\n",
       "            Plug-in Hybrid Electric Vehicle (PHEV)     22.383838\n",
       "2013        Battery Electric Vehicle (BEV)            114.893855\n",
       "            Plug-in Hybrid Electric Vehicle (PHEV)     25.072165\n",
       "2014        Battery Electric Vehicle (BEV)            129.250000\n",
       "            Plug-in Hybrid Electric Vehicle (PHEV)     32.217742\n",
       "2015        Battery Electric Vehicle (BEV)            120.073733\n",
       "            Plug-in Hybrid Electric Vehicle (PHEV)     34.873418\n",
       "2016        Battery Electric Vehicle (BEV)            130.965066\n",
       "            Plug-in Hybrid Electric Vehicle (PHEV)     28.575472\n",
       "2017        Battery Electric Vehicle (BEV)            186.556818\n",
       "            Plug-in Hybrid Electric Vehicle (PHEV)     37.525862\n",
       "2018        Battery Electric Vehicle (BEV)            207.776735\n",
       "            Plug-in Hybrid Electric Vehicle (PHEV)     33.222749\n",
       "2019        Battery Electric Vehicle (BEV)            211.650549\n",
       "            Plug-in Hybrid Electric Vehicle (PHEV)     32.471698\n",
       "2020        Battery Electric Vehicle (BEV)            276.559546\n",
       "            Plug-in Hybrid Electric Vehicle (PHEV)     28.945652\n",
       "2021        Battery Electric Vehicle (BEV)            188.750000\n",
       "            Plug-in Hybrid Electric Vehicle (PHEV)     29.186813\n",
       "2022        Plug-in Hybrid Electric Vehicle (PHEV)     28.894009\n",
       "2023        Plug-in Hybrid Electric Vehicle (PHEV)     30.076115\n",
       "2024        Plug-in Hybrid Electric Vehicle (PHEV)     32.100865\n",
       "2025        Plug-in Hybrid Electric Vehicle (PHEV)     34.833333\n",
       "Name: Electric Range, dtype: float64"
      ]
     },
     "execution_count": 16,
     "metadata": {},
     "output_type": "execute_result"
    },
    {
     "ename": "",
     "evalue": "",
     "output_type": "error",
     "traceback": [
      "\u001b[1;31mThe Kernel crashed while executing code in the current cell or a previous cell. \n",
      "\u001b[1;31mPlease review the code in the cell(s) to identify a possible cause of the failure. \n",
      "\u001b[1;31mClick <a href='https://aka.ms/vscodeJupyterKernelCrash'>here</a> for more info. \n",
      "\u001b[1;31mView Jupyter <a href='command:jupyter.viewOutput'>log</a> for further details."
     ]
    }
   ],
   "source": [
    "sampled_df.groupby(['Model Year', 'Electric Vehicle Type'])['Electric Range'].mean()"
   ]
  },
  {
   "cell_type": "code",
   "execution_count": null,
   "metadata": {},
   "outputs": [],
   "source": []
  }
 ],
 "metadata": {
  "kernelspec": {
   "display_name": "Python 3",
   "language": "python",
   "name": "python3"
  },
  "language_info": {
   "codemirror_mode": {
    "name": "ipython",
    "version": 3
   },
   "file_extension": ".py",
   "mimetype": "text/x-python",
   "name": "python",
   "nbconvert_exporter": "python",
   "pygments_lexer": "ipython3",
   "version": "3.12.3"
  }
 },
 "nbformat": 4,
 "nbformat_minor": 2
}
